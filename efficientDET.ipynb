{
 "cells": [
  {
   "cell_type": "code",
   "execution_count": 1,
   "id": "392f6fc2",
   "metadata": {},
   "outputs": [
    {
     "name": "stdout",
     "output_type": "stream",
     "text": [
      "--- Memulai Setup Proyek EfficientDet Lokal (Versi Sederhana) ---\n",
      "Melakukan 'git clone' dari https://github.com/zylo117/Yet-Another-EfficientDet-Pytorch.git...\n",
      "Mengunduh file bobot ke 'Yet-Another-EfficientDet-Pytorch\\weights\\efficientdet-d0.pth'...\n",
      "Unduhan selesai.\n",
      "\n",
      "--- Setup Selesai ---\n",
      "Langkah selanjutnya tetap sama:\n",
      "1. Masuk ke direktori proyek: cd Yet-Another-EfficientDet-Pytorch\n",
      "2. Buat file konfigurasi 'projects/CustomDET.yaml' Anda.\n",
      "3. Install dependencies: pip install -r requirements.txt\n"
     ]
    }
   ],
   "source": [
    "import os\n",
    "import shutil\n",
    "import subprocess\n",
    "import urllib.request\n",
    "from pathlib import Path\n",
    "\n",
    "# --- Konfigurasi ---\n",
    "REPO_URL = \"https://github.com/zylo117/Yet-Another-EfficientDet-Pytorch.git\"\n",
    "PROJECT_DIR = Path(\"Yet-Another-EfficientDet-Pytorch\")\n",
    "WEIGHTS_URL = \"https://github.com/zylo117/Yet-Another-EfficientDet-Pytorch/releases/download/1.0/efficientdet-d0.pth\"\n",
    "WEIGHTS_FILE = PROJECT_DIR / \"weights\" / \"efficientdet-d0.pth\"\n",
    "\n",
    "print(\"--- Memulai Setup Proyek EfficientDet Lokal (Versi Sederhana) ---\")\n",
    "\n",
    "try:\n",
    "    # 1. Clone atau Pull Repositori dengan penanganan error yang lebih baik\n",
    "    # Memeriksa apakah ini adalah repositori git yang valid\n",
    "    is_git_repo = (PROJECT_DIR / \".git\").is_dir()\n",
    "\n",
    "    if is_git_repo:\n",
    "        print(f\"Direktori '{PROJECT_DIR}' adalah repositori Git. Melakukan 'git pull'...\")\n",
    "        subprocess.run([\"git\", \"pull\"], check=True, cwd=PROJECT_DIR, capture_output=True)\n",
    "    else:\n",
    "        # Jika direktori ada tapi bukan repo git, hapus dulu.\n",
    "        if PROJECT_DIR.exists():\n",
    "            print(f\"Direktori '{PROJECT_DIR}' ada tapi bukan repositori Git. Menghapusnya...\")\n",
    "            shutil.rmtree(PROJECT_DIR)\n",
    "        \n",
    "        print(f\"Melakukan 'git clone' dari {REPO_URL}...\")\n",
    "        # Menjalankan git clone dan menangkap output untuk debugging\n",
    "        result = subprocess.run(\n",
    "            [\"git\", \"clone\", \"--depth\", \"1\", REPO_URL], \n",
    "            check=True, \n",
    "            capture_output=True, \n",
    "            text=True\n",
    "        )\n",
    "\n",
    "    # 2. Unduh File Bobot (Weights)\n",
    "    # Membuat folder 'weights' jika belum ada\n",
    "    WEIGHTS_FILE.parent.mkdir(parents=True, exist_ok=True)\n",
    "\n",
    "    if not WEIGHTS_FILE.exists():\n",
    "        print(f\"Mengunduh file bobot ke '{WEIGHTS_FILE}'...\")\n",
    "        urllib.request.urlretrieve(WEIGHTS_URL, WEIGHTS_FILE)\n",
    "        print(\"Unduhan selesai.\")\n",
    "    else:\n",
    "        print(f\"File bobot '{WEIGHTS_FILE.name}' sudah ada. Unduhan dilewati.\")\n",
    "\n",
    "    print(\"\\n--- Setup Selesai ---\")\n",
    "    print(\"Langkah selanjutnya tetap sama:\")\n",
    "    print(f\"1. Masuk ke direktori proyek: cd {PROJECT_DIR}\")\n",
    "    print(\"2. Buat file konfigurasi 'projects/CustomDET.yaml' Anda.\")\n",
    "    print(\"3. Install dependencies: pip install -r requirements.txt\")\n",
    "\n",
    "except subprocess.CalledProcessError as e:\n",
    "    print(f\"\\nTerjadi error saat menjalankan perintah Git:\")\n",
    "    print(f\"Error: {e}\")\n",
    "    print(f\"Stderr: {e.stderr}\")\n",
    "    print(\"Pastikan Git sudah terinstall dan ditambahkan ke PATH Anda.\")\n",
    "except Exception as e:\n",
    "    print(f\"\\nTerjadi error yang tidak terduga: {e}\")\n",
    "\n"
   ]
  }
 ],
 "metadata": {
  "kernelspec": {
   "display_name": "machineLearning",
   "language": "python",
   "name": "python3"
  },
  "language_info": {
   "codemirror_mode": {
    "name": "ipython",
    "version": 3
   },
   "file_extension": ".py",
   "mimetype": "text/x-python",
   "name": "python",
   "nbconvert_exporter": "python",
   "pygments_lexer": "ipython3",
   "version": "3.12.3"
  }
 },
 "nbformat": 4,
 "nbformat_minor": 5
}
